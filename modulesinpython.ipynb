{
 "cells": [
  {
   "cell_type": "code",
   "execution_count": 2,
   "id": "b6d589fb",
   "metadata": {},
   "outputs": [
    {
     "data": {
      "text/plain": [
       "'MODULES\\nclass-->function\\nfunction\\nby using modules we can access functions\\nby importing modules\\nwe have Built-in Modules\\n1)OS module\\n2)SYS module\\n3)DATE TIME MODULE\\n\\n1)OS module\\n1)mkdir():to create new directory\\n2)getcwd(): to know about current working directory\\n3)rmdir(): to remove the directory when only the directory is empty\\n4)listdir():to return the list of all directories\\nsyntax:module_name.function_name\\nos.mkdir\\nuser-defined modules\\n'"
      ]
     },
     "execution_count": 2,
     "metadata": {},
     "output_type": "execute_result"
    }
   ],
   "source": [
    "\"\"\"MODULES\n",
    "class-->function\n",
    "function\n",
    "by using modules we can access functions\n",
    "by importing modules\n",
    "we have Built-in Modules\n",
    "1)OS module\n",
    "2)SYS module\n",
    "3)DATE TIME MODULE\n",
    "\n",
    "1)OS module\n",
    "1)mkdir():to create new directory\n",
    "2)getcwd(): to know about current working directory\n",
    "3)rmdir(): to remove the directory when only the directory is empty\n",
    "4)listdir():to return the list of all directories\n",
    "syntax:module_name.function_name\n",
    "os.mkdir\n",
    "user-defined modules\n",
    "\"\"\""
   ]
  },
  {
   "cell_type": "code",
   "execution_count": 3,
   "id": "64d6b560",
   "metadata": {},
   "outputs": [
    {
     "data": {
      "text/plain": [
       "'C:\\\\Users\\\\BOTHSA\\\\Desktop\\\\priyanka\\\\python'"
      ]
     },
     "execution_count": 3,
     "metadata": {},
     "output_type": "execute_result"
    }
   ],
   "source": [
    "import os\n",
    "os.getcwd()"
   ]
  },
  {
   "cell_type": "code",
   "execution_count": 4,
   "id": "ea228d51",
   "metadata": {},
   "outputs": [],
   "source": [
    "os.mkdir(\"priya\")\n"
   ]
  },
  {
   "cell_type": "code",
   "execution_count": 5,
   "id": "4e80605d",
   "metadata": {},
   "outputs": [
    {
     "data": {
      "text/plain": [
       "['.ipynb_checkpoints',\n",
       " '.vscode',\n",
       " '012array.py',\n",
       " '1.exe',\n",
       " '1.js',\n",
       " '1.py',\n",
       " '2048.py',\n",
       " '2048logic.py',\n",
       " 'a.py',\n",
       " 'alarm.py',\n",
       " 'an.py',\n",
       " 'anagrams.py',\n",
       " 'armstrong.py',\n",
       " 'array.py',\n",
       " 'arrow.py',\n",
       " 'bfs.py',\n",
       " 'bubblesort.py',\n",
       " 'calculator',\n",
       " 'chocdist.py',\n",
       " 'clock.kv',\n",
       " 'clock.py',\n",
       " 'cyclicrotate.py',\n",
       " 'database.db',\n",
       " 'dfs.py',\n",
       " 'dll.py',\n",
       " 'dlldelbeg.py',\n",
       " 'dlldelend.py',\n",
       " 'dlldelpos.py',\n",
       " 'dllinsbeg.py',\n",
       " 'dllinsend.py',\n",
       " 'dllinspos.py',\n",
       " 'evenchar.py',\n",
       " 'evenoddinlistofwords.py',\n",
       " 'feedback-ui',\n",
       " 'first.py',\n",
       " 'flask',\n",
       " 'freqofchar.py',\n",
       " 'g.py',\n",
       " 'ga.py',\n",
       " 'gr.py',\n",
       " 'heart.css',\n",
       " 'heart.html',\n",
       " 'index.html',\n",
       " 'interunion.py',\n",
       " 'javascript',\n",
       " 'kthsmallest.py',\n",
       " 'largestsumcontiguous.py',\n",
       " 'linearsearch.py',\n",
       " 'linkedlistdelnode.py',\n",
       " 'linkedlists.ipynb',\n",
       " 'list.py',\n",
       " 'logic.py',\n",
       " 'minchoc.py',\n",
       " 'minmax.py',\n",
       " 'minmaxheight.py',\n",
       " 'moon.css',\n",
       " 'moon.html',\n",
       " 'multiplicationorsum.py',\n",
       " 'negative.py',\n",
       " 'oopsinpython',\n",
       " 'pattern.py',\n",
       " 'practiseprograms.ipynb',\n",
       " 'previoussum.py',\n",
       " 'prime.py',\n",
       " 'priya',\n",
       " 'reverse.py',\n",
       " 'rotate.py',\n",
       " 'searchrotatsortarr.py',\n",
       " 'sliding window.py',\n",
       " 'sll.py',\n",
       " 'slldelbeg.py',\n",
       " 'slldelend.py',\n",
       " 'slldelpos.py',\n",
       " 'sllend.py',\n",
       " 'sllinpos.py',\n",
       " 'sllinsert.py',\n",
       " 'strong.py',\n",
       " 'style.css',\n",
       " 'sudoku.py',\n",
       " 'table.sql',\n",
       " 'tempCodeRunnerFile.py',\n",
       " 'tempCodeRunnerFile.python',\n",
       " 'tictactoe.py',\n",
       " 'untitled',\n",
       " 'Untitled.ipynb',\n",
       " 'Untitled1.ipynb',\n",
       " 'Untitled2.ipynb',\n",
       " 'Untitled3.ipynb',\n",
       " 'whatsapp.py',\n",
       " '__pycache__']"
      ]
     },
     "execution_count": 5,
     "metadata": {},
     "output_type": "execute_result"
    }
   ],
   "source": [
    "os.listdir()"
   ]
  },
  {
   "cell_type": "code",
   "execution_count": 6,
   "id": "3e7b3449",
   "metadata": {},
   "outputs": [
    {
     "data": {
      "text/plain": [
       "['DirEntry',\n",
       " 'EX_OK',\n",
       " 'F_OK',\n",
       " 'GenericAlias',\n",
       " 'Mapping',\n",
       " 'MutableMapping',\n",
       " 'O_APPEND',\n",
       " 'O_BINARY',\n",
       " 'O_CREAT',\n",
       " 'O_EXCL',\n",
       " 'O_NOINHERIT',\n",
       " 'O_RANDOM',\n",
       " 'O_RDONLY',\n",
       " 'O_RDWR',\n",
       " 'O_SEQUENTIAL',\n",
       " 'O_SHORT_LIVED',\n",
       " 'O_TEMPORARY',\n",
       " 'O_TEXT',\n",
       " 'O_TRUNC',\n",
       " 'O_WRONLY',\n",
       " 'P_DETACH',\n",
       " 'P_NOWAIT',\n",
       " 'P_NOWAITO',\n",
       " 'P_OVERLAY',\n",
       " 'P_WAIT',\n",
       " 'PathLike',\n",
       " 'R_OK',\n",
       " 'SEEK_CUR',\n",
       " 'SEEK_END',\n",
       " 'SEEK_SET',\n",
       " 'TMP_MAX',\n",
       " 'W_OK',\n",
       " 'X_OK',\n",
       " '_AddedDllDirectory',\n",
       " '_Environ',\n",
       " '__all__',\n",
       " '__builtins__',\n",
       " '__doc__',\n",
       " '__file__',\n",
       " '__loader__',\n",
       " '__name__',\n",
       " '__package__',\n",
       " '__spec__',\n",
       " '_check_methods',\n",
       " '_execvpe',\n",
       " '_exists',\n",
       " '_exit',\n",
       " '_fspath',\n",
       " '_get_exports_list',\n",
       " '_walk',\n",
       " '_wrap_close',\n",
       " 'abc',\n",
       " 'abort',\n",
       " 'access',\n",
       " 'add_dll_directory',\n",
       " 'altsep',\n",
       " 'chdir',\n",
       " 'chmod',\n",
       " 'close',\n",
       " 'closerange',\n",
       " 'cpu_count',\n",
       " 'curdir',\n",
       " 'defpath',\n",
       " 'device_encoding',\n",
       " 'devnull',\n",
       " 'dup',\n",
       " 'dup2',\n",
       " 'environ',\n",
       " 'error',\n",
       " 'execl',\n",
       " 'execle',\n",
       " 'execlp',\n",
       " 'execlpe',\n",
       " 'execv',\n",
       " 'execve',\n",
       " 'execvp',\n",
       " 'execvpe',\n",
       " 'extsep',\n",
       " 'fdopen',\n",
       " 'fsdecode',\n",
       " 'fsencode',\n",
       " 'fspath',\n",
       " 'fstat',\n",
       " 'fsync',\n",
       " 'ftruncate',\n",
       " 'get_exec_path',\n",
       " 'get_handle_inheritable',\n",
       " 'get_inheritable',\n",
       " 'get_terminal_size',\n",
       " 'getcwd',\n",
       " 'getcwdb',\n",
       " 'getenv',\n",
       " 'getlogin',\n",
       " 'getpid',\n",
       " 'getppid',\n",
       " 'isatty',\n",
       " 'kill',\n",
       " 'linesep',\n",
       " 'link',\n",
       " 'listdir',\n",
       " 'lseek',\n",
       " 'lstat',\n",
       " 'makedirs',\n",
       " 'mkdir',\n",
       " 'name',\n",
       " 'open',\n",
       " 'pardir',\n",
       " 'path',\n",
       " 'pathsep',\n",
       " 'pipe',\n",
       " 'popen',\n",
       " 'putenv',\n",
       " 'read',\n",
       " 'readlink',\n",
       " 'remove',\n",
       " 'removedirs',\n",
       " 'rename',\n",
       " 'renames',\n",
       " 'replace',\n",
       " 'rmdir',\n",
       " 'scandir',\n",
       " 'sep',\n",
       " 'set_handle_inheritable',\n",
       " 'set_inheritable',\n",
       " 'spawnl',\n",
       " 'spawnle',\n",
       " 'spawnv',\n",
       " 'spawnve',\n",
       " 'st',\n",
       " 'startfile',\n",
       " 'stat',\n",
       " 'stat_result',\n",
       " 'statvfs_result',\n",
       " 'strerror',\n",
       " 'supports_bytes_environ',\n",
       " 'supports_dir_fd',\n",
       " 'supports_effective_ids',\n",
       " 'supports_fd',\n",
       " 'supports_follow_symlinks',\n",
       " 'symlink',\n",
       " 'sys',\n",
       " 'system',\n",
       " 'terminal_size',\n",
       " 'times',\n",
       " 'times_result',\n",
       " 'truncate',\n",
       " 'umask',\n",
       " 'uname_result',\n",
       " 'unlink',\n",
       " 'unsetenv',\n",
       " 'urandom',\n",
       " 'utime',\n",
       " 'waitpid',\n",
       " 'waitstatus_to_exitcode',\n",
       " 'walk',\n",
       " 'write']"
      ]
     },
     "execution_count": 6,
     "metadata": {},
     "output_type": "execute_result"
    }
   ],
   "source": [
    "dir(os)"
   ]
  },
  {
   "cell_type": "code",
   "execution_count": 7,
   "id": "364ee0eb",
   "metadata": {},
   "outputs": [
    {
     "data": {
      "text/plain": [
       "<module 'ntpath' (frozen)>"
      ]
     },
     "execution_count": 7,
     "metadata": {},
     "output_type": "execute_result"
    }
   ],
   "source": [
    "os.path"
   ]
  },
  {
   "cell_type": "code",
   "execution_count": null,
   "id": "1b42bc2c",
   "metadata": {},
   "outputs": [],
   "source": [
    "\"\"\"\n",
    "SYS MODULE\n",
    "1)sys.argv:- returns a list of command line argumrnts passed to a python script. the item index 0 in this list is always the name of the script. the rest of the arguments are stored at the subsequent indices.\n",
    "2) sys.max:-returns the largest integer variable can take\n",
    "3)sys.path:-display created path\n",
    "4)sys.version:-return the version\n",
    "\"\"\""
   ]
  },
  {
   "cell_type": "code",
   "execution_count": 8,
   "id": "fd81b3db",
   "metadata": {},
   "outputs": [
    {
     "data": {
      "text/plain": [
       "9223372036854775807"
      ]
     },
     "execution_count": 8,
     "metadata": {},
     "output_type": "execute_result"
    }
   ],
   "source": [
    "import sys\n",
    "sys.maxsize"
   ]
  },
  {
   "cell_type": "code",
   "execution_count": 9,
   "id": "c62051a9",
   "metadata": {},
   "outputs": [
    {
     "data": {
      "text/plain": [
       "9223372036854775808"
      ]
     },
     "execution_count": 9,
     "metadata": {},
     "output_type": "execute_result"
    }
   ],
   "source": [
    "sys.maxsize+1"
   ]
  },
  {
   "cell_type": "code",
   "execution_count": 10,
   "id": "4385e280",
   "metadata": {},
   "outputs": [
    {
     "data": {
      "text/plain": [
       "['C:\\\\Users\\\\BOTHSA\\\\Desktop\\\\priyanka\\\\python',\n",
       " 'C:\\\\Python311\\\\python311.zip',\n",
       " 'C:\\\\Python311\\\\Lib',\n",
       " 'C:\\\\Python311\\\\DLLs',\n",
       " 'C:\\\\Python311',\n",
       " '',\n",
       " 'C:\\\\Python311\\\\Lib\\\\site-packages',\n",
       " 'C:\\\\Python311\\\\Lib\\\\site-packages\\\\win32',\n",
       " 'C:\\\\Python311\\\\Lib\\\\site-packages\\\\win32\\\\lib',\n",
       " 'C:\\\\Python311\\\\Lib\\\\site-packages\\\\Pythonwin']"
      ]
     },
     "execution_count": 10,
     "metadata": {},
     "output_type": "execute_result"
    }
   ],
   "source": [
    "sys.path"
   ]
  },
  {
   "cell_type": "code",
   "execution_count": 11,
   "id": "49272004",
   "metadata": {},
   "outputs": [
    {
     "data": {
      "text/plain": [
       "'3.11.0 (main, Oct 24 2022, 18:26:48) [MSC v.1933 64 bit (AMD64)]'"
      ]
     },
     "execution_count": 11,
     "metadata": {},
     "output_type": "execute_result"
    }
   ],
   "source": [
    "sys.version"
   ]
  },
  {
   "cell_type": "code",
   "execution_count": null,
   "id": "2305ca53",
   "metadata": {},
   "outputs": [],
   "source": [
    "\"\"\"\n",
    "3)DATE TIME MODULE\n",
    "1)DATE CLASS -- month-day-year\n",
    "2)TIME CLASS -- hours-min-seconds-micro seconds\n",
    "3)DATE TIME CLASS\n",
    "4)TIMEDELTA CLASS\n",
    "we use now method for date time\n",
    "module_name.class_name.now\n",
    "\"\"\""
   ]
  },
  {
   "cell_type": "code",
   "execution_count": 12,
   "id": "b8a0aafb",
   "metadata": {},
   "outputs": [],
   "source": [
    "import datetime"
   ]
  },
  {
   "cell_type": "code",
   "execution_count": 13,
   "id": "6b09136b",
   "metadata": {},
   "outputs": [],
   "source": [
    "d=datetime.datetime.now()"
   ]
  },
  {
   "cell_type": "code",
   "execution_count": 14,
   "id": "3db46391",
   "metadata": {},
   "outputs": [
    {
     "data": {
      "text/plain": [
       "datetime.datetime(2023, 3, 13, 12, 27, 56, 651895)"
      ]
     },
     "execution_count": 14,
     "metadata": {},
     "output_type": "execute_result"
    }
   ],
   "source": [
    "d"
   ]
  },
  {
   "cell_type": "code",
   "execution_count": 15,
   "id": "61933ada",
   "metadata": {},
   "outputs": [
    {
     "data": {
      "text/plain": [
       "datetime.date(2023, 3, 13)"
      ]
     },
     "execution_count": 15,
     "metadata": {},
     "output_type": "execute_result"
    }
   ],
   "source": [
    "d=datetime.date.today()\n",
    "d"
   ]
  },
  {
   "cell_type": "code",
   "execution_count": 16,
   "id": "ff3e4ad3",
   "metadata": {},
   "outputs": [],
   "source": [
    "from datetime import datetime"
   ]
  },
  {
   "cell_type": "code",
   "execution_count": 17,
   "id": "c024dffb",
   "metadata": {},
   "outputs": [],
   "source": [
    "d=datetime.now()"
   ]
  },
  {
   "cell_type": "code",
   "execution_count": 18,
   "id": "19097243",
   "metadata": {},
   "outputs": [
    {
     "data": {
      "text/plain": [
       "datetime.datetime(2023, 3, 13, 12, 29, 38, 153272)"
      ]
     },
     "execution_count": 18,
     "metadata": {},
     "output_type": "execute_result"
    }
   ],
   "source": [
    "d"
   ]
  },
  {
   "cell_type": "code",
   "execution_count": 19,
   "id": "2c2036df",
   "metadata": {},
   "outputs": [],
   "source": [
    "from datetime import date"
   ]
  },
  {
   "cell_type": "code",
   "execution_count": 20,
   "id": "54029317",
   "metadata": {},
   "outputs": [
    {
     "data": {
      "text/plain": [
       "datetime.date(2023, 3, 13)"
      ]
     },
     "execution_count": 20,
     "metadata": {},
     "output_type": "execute_result"
    }
   ],
   "source": [
    "d=date.today()\n",
    "d"
   ]
  },
  {
   "cell_type": "code",
   "execution_count": 21,
   "id": "dfce34e6",
   "metadata": {},
   "outputs": [],
   "source": [
    "import datetime\n",
    "d=datetime.date(2023,3,28)"
   ]
  },
  {
   "cell_type": "code",
   "execution_count": 22,
   "id": "19b9e6be",
   "metadata": {},
   "outputs": [
    {
     "name": "stdout",
     "output_type": "stream",
     "text": [
      "2023-03-28\n"
     ]
    }
   ],
   "source": [
    "print(d)"
   ]
  },
  {
   "cell_type": "code",
   "execution_count": 23,
   "id": "2fdf5d6a",
   "metadata": {},
   "outputs": [
    {
     "data": {
      "text/plain": [
       "2023"
      ]
     },
     "execution_count": 23,
     "metadata": {},
     "output_type": "execute_result"
    }
   ],
   "source": [
    "d.year"
   ]
  },
  {
   "cell_type": "code",
   "execution_count": 24,
   "id": "2c9ee988",
   "metadata": {},
   "outputs": [
    {
     "data": {
      "text/plain": [
       "3"
      ]
     },
     "execution_count": 24,
     "metadata": {},
     "output_type": "execute_result"
    }
   ],
   "source": [
    "d.month"
   ]
  },
  {
   "cell_type": "code",
   "execution_count": 26,
   "id": "47954273",
   "metadata": {},
   "outputs": [
    {
     "data": {
      "text/plain": [
       "28"
      ]
     },
     "execution_count": 26,
     "metadata": {},
     "output_type": "execute_result"
    }
   ],
   "source": [
    "d.day"
   ]
  },
  {
   "cell_type": "code",
   "execution_count": 28,
   "id": "84e03f7a",
   "metadata": {},
   "outputs": [
    {
     "name": "stdout",
     "output_type": "stream",
     "text": [
      "09:25:20.847625\n"
     ]
    }
   ],
   "source": [
    "import datetime\n",
    "d=datetime.time(9,25,20,847625)\n",
    "print(d)"
   ]
  },
  {
   "cell_type": "code",
   "execution_count": 29,
   "id": "9e1fb46e",
   "metadata": {},
   "outputs": [
    {
     "data": {
      "text/plain": [
       "25"
      ]
     },
     "execution_count": 29,
     "metadata": {},
     "output_type": "execute_result"
    }
   ],
   "source": [
    "d.minute"
   ]
  },
  {
   "cell_type": "code",
   "execution_count": 30,
   "id": "4c5a3d45",
   "metadata": {},
   "outputs": [
    {
     "data": {
      "text/plain": [
       "9"
      ]
     },
     "execution_count": 30,
     "metadata": {},
     "output_type": "execute_result"
    }
   ],
   "source": [
    "d.hour"
   ]
  },
  {
   "cell_type": "code",
   "execution_count": 31,
   "id": "20ae3747",
   "metadata": {},
   "outputs": [
    {
     "data": {
      "text/plain": [
       "20"
      ]
     },
     "execution_count": 31,
     "metadata": {},
     "output_type": "execute_result"
    }
   ],
   "source": [
    "d.second"
   ]
  },
  {
   "cell_type": "code",
   "execution_count": 32,
   "id": "604423b3",
   "metadata": {},
   "outputs": [
    {
     "data": {
      "text/plain": [
       "847625"
      ]
     },
     "execution_count": 32,
     "metadata": {},
     "output_type": "execute_result"
    }
   ],
   "source": [
    "d.microsecond"
   ]
  },
  {
   "cell_type": "code",
   "execution_count": 33,
   "id": "cf7f8215",
   "metadata": {},
   "outputs": [
    {
     "name": "stdout",
     "output_type": "stream",
     "text": [
      "2023-03-28 12:35:20.028494\n"
     ]
    }
   ],
   "source": [
    "import datetime\n",
    "d=datetime.datetime(2023,3,28,12,35,20,28494)\n",
    "print(d)"
   ]
  },
  {
   "cell_type": "code",
   "execution_count": 35,
   "id": "0c1741fd",
   "metadata": {},
   "outputs": [
    {
     "name": "stdout",
     "output_type": "stream",
     "text": [
      "2023-03-13 12:37:07.190975\n"
     ]
    }
   ],
   "source": [
    "print(datetime.datetime.today())"
   ]
  },
  {
   "cell_type": "code",
   "execution_count": 36,
   "id": "bd831ff7",
   "metadata": {},
   "outputs": [
    {
     "name": "stdout",
     "output_type": "stream",
     "text": [
      "2023-03-28 00:00:00\n"
     ]
    }
   ],
   "source": [
    "d=datetime.datetime(2023,3,28)\n",
    "print(d)"
   ]
  },
  {
   "cell_type": "code",
   "execution_count": 37,
   "id": "dd960f83",
   "metadata": {},
   "outputs": [
    {
     "data": {
      "text/plain": [
       "1679941800.0"
      ]
     },
     "execution_count": 37,
     "metadata": {},
     "output_type": "execute_result"
    }
   ],
   "source": [
    "d.timestamp()"
   ]
  },
  {
   "cell_type": "code",
   "execution_count": 38,
   "id": "5d053535",
   "metadata": {},
   "outputs": [
    {
     "data": {
      "text/plain": [
       "' to  show the time difference we use timedelta function'"
      ]
     },
     "execution_count": 38,
     "metadata": {},
     "output_type": "execute_result"
    }
   ],
   "source": [
    "\"\"\" to  show the time difference we use timedelta function\"\"\""
   ]
  },
  {
   "cell_type": "code",
   "execution_count": 41,
   "id": "28f3fe04",
   "metadata": {},
   "outputs": [
    {
     "name": "stdout",
     "output_type": "stream",
     "text": [
      "-53 days, 0:00:00\n"
     ]
    }
   ],
   "source": [
    "import datetime\n",
    "t=datetime.timedelta(weeks=2,days=2023)\n",
    "t1=datetime.timedelta(weeks=10,days=2020)\n",
    "print(t-t1)"
   ]
  },
  {
   "cell_type": "code",
   "execution_count": null,
   "id": "ca37a3e6",
   "metadata": {},
   "outputs": [],
   "source": []
  }
 ],
 "metadata": {
  "kernelspec": {
   "display_name": "Python 3 (ipykernel)",
   "language": "python",
   "name": "python3"
  },
  "language_info": {
   "codemirror_mode": {
    "name": "ipython",
    "version": 3
   },
   "file_extension": ".py",
   "mimetype": "text/x-python",
   "name": "python",
   "nbconvert_exporter": "python",
   "pygments_lexer": "ipython3",
   "version": "3.11.0"
  }
 },
 "nbformat": 4,
 "nbformat_minor": 5
}
