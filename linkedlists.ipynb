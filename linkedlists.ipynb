{
 "cells": [
  {
   "cell_type": "code",
   "execution_count": null,
   "id": "dc0a631a",
   "metadata": {},
   "outputs": [],
   "source": [
    "Linked lists"
   ]
  },
  {
   "cell_type": "code",
   "execution_count": null,
   "id": "b2d63159",
   "metadata": {},
   "outputs": [],
   "source": [
    "Linked list insertion at Begining"
   ]
  },
  {
   "cell_type": "code",
   "execution_count": 1,
   "id": "61bdb81f",
   "metadata": {},
   "outputs": [
    {
     "name": "stdout",
     "output_type": "stream",
     "text": [
      "77 --> 7 --> 10 --> 20 --> 30 --> 40 --> 50 --> "
     ]
    }
   ],
   "source": [
    "class node:\n",
    "    def __init__(self,data):\n",
    "        self.data=data\n",
    "        self.next=None\n",
    "class sll:\n",
    "    def __init__(self):\n",
    "        self.head=None\n",
    "    def insert_begi(self,data):\n",
    "        nb=node(data)\n",
    "        nb.next=self.head\n",
    "        self.head=nb\n",
    "    def display(self):\n",
    "        if self.head is None:\n",
    "            print(\"Empty\")\n",
    "        else:\n",
    "            temp=self.head\n",
    "            while temp:\n",
    "                print(temp.data,\"-->\",end=\" \")\n",
    "                temp=temp.next\n",
    "\n",
    "l=sll()\n",
    "n1=node(10)\n",
    "l.head=n1\n",
    "n2=node(20)\n",
    "l.head.next=n2\n",
    "n3=node(30)\n",
    "n2.next=n3\n",
    "n4=node(40)\n",
    "n3.next=n4\n",
    "n5=node(50)\n",
    "n4.next=n5\n",
    "l.insert_begi(7)\n",
    "l.insert_begi(77)\n",
    "l.display()"
   ]
  },
  {
   "cell_type": "code",
   "execution_count": null,
   "id": "911aecc5",
   "metadata": {},
   "outputs": [],
   "source": [
    "Single linked list insertion at ending"
   ]
  },
  {
   "cell_type": "code",
   "execution_count": 2,
   "id": "95fd54a1",
   "metadata": {},
   "outputs": [
    {
     "name": "stdout",
     "output_type": "stream",
     "text": [
      "10 --> 20 --> 30 --> 77 --> "
     ]
    }
   ],
   "source": [
    "class node:\n",
    "    def __init__(self,data):\n",
    "        self.data=data\n",
    "        self.next=None\n",
    "class sll:\n",
    "    def __init__(self):\n",
    "        self.head=None\n",
    "    def insert_end(self,data):\n",
    "        ne=node(data)\n",
    "        temp=self.head\n",
    "        while temp.next:\n",
    "            temp=temp.next\n",
    "        temp.next=ne\n",
    "    def display(self):\n",
    "        if self.head is None:\n",
    "            print(\"Empty\")\n",
    "        else:\n",
    "            temp=self.head\n",
    "            while temp:\n",
    "                print(temp.data,\"-->\",end=\" \")\n",
    "                temp=temp.next\n",
    "\n",
    "l=sll()\n",
    "n1=node(10)\n",
    "l.head=n1\n",
    "n2=node(20)\n",
    "l.head.next=n2\n",
    "n3=node(30)\n",
    "n2.next=n3\n",
    "l.insert_end(77)\n",
    "l.display()"
   ]
  },
  {
   "cell_type": "code",
   "execution_count": null,
   "id": "777805f5",
   "metadata": {},
   "outputs": [],
   "source": [
    "Single linked list insertion at particular position"
   ]
  },
  {
   "cell_type": "code",
   "execution_count": 3,
   "id": "19bfb240",
   "metadata": {},
   "outputs": [
    {
     "name": "stdout",
     "output_type": "stream",
     "text": [
      "10 --> 20 --> 7 --> 88 --> 30 --> 40 --> "
     ]
    }
   ],
   "source": [
    "class node:\n",
    "    def __init__(self,data):\n",
    "        self.data=data\n",
    "        self.next=None\n",
    "class sll:\n",
    "    def __init__(self):\n",
    "        self.head=None\n",
    "\n",
    "    def insert_pos(self,pos,data):\n",
    "        np=node(data)\n",
    "        temp=self.head\n",
    "        for i in range(pos-1):\n",
    "            temp=temp.next\n",
    "        np.data=data\n",
    "        np.next=temp.next\n",
    "        temp.next=np\n",
    "    def display(self):\n",
    "        if self.head is None:\n",
    "            print(\"Empty\")\n",
    "        else:\n",
    "            temp=self.head\n",
    "            while temp:\n",
    "                print(temp.data,\"-->\",end=\" \")\n",
    "                temp=temp.next\n",
    "\n",
    "l=sll()\n",
    "n1=node(10)\n",
    "l.head=n1\n",
    "n2=node(20)\n",
    "l.head.next=n2\n",
    "n3=node(30)\n",
    "n2.next=n3\n",
    "n4=node(40)\n",
    "n3.next=n4\n",
    "l.insert_pos(2,7)\n",
    "l.insert_pos(3,88)\n",
    "l.display()"
   ]
  },
  {
   "cell_type": "code",
   "execution_count": null,
   "id": "45def44d",
   "metadata": {},
   "outputs": [],
   "source": [
    "Single linked list deletion at begining"
   ]
  },
  {
   "cell_type": "code",
   "execution_count": 4,
   "id": "350c14a3",
   "metadata": {},
   "outputs": [
    {
     "name": "stdout",
     "output_type": "stream",
     "text": [
      "20 --> 30 --> "
     ]
    }
   ],
   "source": [
    "class node:\n",
    "    def __init__(self,data):\n",
    "        self.data=data\n",
    "        self.next=None\n",
    "class sll:\n",
    "    def __init__(self):\n",
    "        self.head=None\n",
    "    def del_beg(self):\n",
    "        temp=self.head\n",
    "        self.head=temp.next\n",
    "        temp.next=None\n",
    "    def display(self):\n",
    "        if self.head is None:\n",
    "            print(\"Empty\")\n",
    "        else:\n",
    "            temp=self.head\n",
    "            while temp:\n",
    "                print(temp.data,\"-->\",end=\" \")\n",
    "                temp=temp.next\n",
    "\n",
    "l=sll()\n",
    "n1=node(10)\n",
    "l.head=n1\n",
    "n2=node(20)\n",
    "l.head.next=n2\n",
    "n3=node(30)\n",
    "n2.next=n3\n",
    "l.del_beg()\n",
    "l.display()"
   ]
  },
  {
   "cell_type": "code",
   "execution_count": null,
   "id": "a33e6139",
   "metadata": {},
   "outputs": [],
   "source": [
    "Single linked list deletion at ending"
   ]
  },
  {
   "cell_type": "code",
   "execution_count": 5,
   "id": "7f52756b",
   "metadata": {},
   "outputs": [
    {
     "name": "stdout",
     "output_type": "stream",
     "text": [
      "10 --> 20 --> 30 --> "
     ]
    }
   ],
   "source": [
    "class node:\n",
    "    def __init__(self,data):\n",
    "        self.data=data\n",
    "        self.next=None\n",
    "class sll:\n",
    "    def __init__(self):\n",
    "        self.head=None\n",
    "    def display(self):\n",
    "        if self.head is None:\n",
    "            print(\"Empty\")\n",
    "        else:\n",
    "            temp=self.head\n",
    "            while temp:\n",
    "                print(temp.data,\"-->\",end=\" \")\n",
    "                temp=temp.next\n",
    "    def del_end(self):\n",
    "        prev=self.head\n",
    "        temp=self.head.next\n",
    "        while temp.next is not None:\n",
    "            temp=temp.next\n",
    "            prev=prev.next\n",
    "        prev.next=None\n",
    "\n",
    "l=sll()\n",
    "n1=node(10)\n",
    "l.head=n1\n",
    "n2=node(20)\n",
    "l.head.next=n2\n",
    "n3=node(30)\n",
    "n2.next=n3\n",
    "n4=node(40)\n",
    "n3.next=n4\n",
    "l.del_end()\n",
    "l.display()"
   ]
  },
  {
   "cell_type": "code",
   "execution_count": null,
   "id": "eb6ee21e",
   "metadata": {},
   "outputs": [],
   "source": [
    "Single linked list deletion at particular position"
   ]
  },
  {
   "cell_type": "code",
   "execution_count": 6,
   "id": "d8c6e045",
   "metadata": {},
   "outputs": [
    {
     "name": "stdout",
     "output_type": "stream",
     "text": [
      "10 --> 20 --> 30 --> 80 --> "
     ]
    }
   ],
   "source": [
    "class node:\n",
    "    def __init__(self,data):\n",
    "        self.data=data\n",
    "        self.next=None\n",
    "class sll:\n",
    "    def __init__(self):\n",
    "        self.head=None\n",
    "    def display(self):\n",
    "        if self.head is None:\n",
    "            print(\"Empty\")\n",
    "        else:\n",
    "            temp=self.head\n",
    "            while temp:\n",
    "                print(temp.data,\"-->\",end=\" \")\n",
    "                temp=temp.next\n",
    "    def del_pos(self,pos):\n",
    "        prev=self.head\n",
    "        temp=self.head.next\n",
    "        for i in range(pos-1):\n",
    "            temp=temp.next\n",
    "            prev=prev.next\n",
    "        prev.next=temp.next\n",
    "\n",
    "l=sll()\n",
    "n1=node(10)\n",
    "l.head=n1\n",
    "n2=node(20)\n",
    "l.head.next=n2\n",
    "n3=node(30)\n",
    "n2.next=n3\n",
    "n4=node(40)\n",
    "n3.next=n4\n",
    "n5=node(80)\n",
    "n4.next=n5\n",
    "l.del_pos(3)\n",
    "l.display()"
   ]
  },
  {
   "cell_type": "code",
   "execution_count": null,
   "id": "cbb5d2e8",
   "metadata": {},
   "outputs": [],
   "source": [
    "Double linked list"
   ]
  },
  {
   "cell_type": "code",
   "execution_count": null,
   "id": "0b8eb53a",
   "metadata": {},
   "outputs": [],
   "source": [
    "Double linked list creation"
   ]
  },
  {
   "cell_type": "code",
   "execution_count": 7,
   "id": "69b893f1",
   "metadata": {},
   "outputs": [
    {
     "name": "stdout",
     "output_type": "stream",
     "text": [
      "10 --> 20 --> 30 --> "
     ]
    }
   ],
   "source": [
    "class node:\n",
    "    def __init__(self,data):\n",
    "        self.data=data\n",
    "        self.prev=None\n",
    "        self.next=None\n",
    "class dll:\n",
    "    def __init__(self):\n",
    "        self.head=None\n",
    "    def display(self):\n",
    "        if self.head is None:\n",
    "            print(\"Empty\")\n",
    "        else:\n",
    "            temp=self.head\n",
    "            while temp:\n",
    "                print(temp.data,\"-->\",end=\" \")\n",
    "                temp=temp.next\n",
    "l=dll()\n",
    "n1=node(10)\n",
    "l.head=n1\n",
    "n2=node(20)\n",
    "n2.prev=n1\n",
    "n1.next=n2\n",
    "n3=node(30)\n",
    "n3.prev=n2\n",
    "n2.next=n3\n",
    "l.display()"
   ]
  },
  {
   "cell_type": "code",
   "execution_count": null,
   "id": "13ca91ef",
   "metadata": {},
   "outputs": [],
   "source": [
    "Double linked list insertion at begining"
   ]
  },
  {
   "cell_type": "code",
   "execution_count": 8,
   "id": "4e87aa96",
   "metadata": {},
   "outputs": [
    {
     "name": "stdout",
     "output_type": "stream",
     "text": [
      "5 --> 10 --> 20 --> 30 --> "
     ]
    }
   ],
   "source": [
    "class node:\n",
    "    def __init__(self,data):\n",
    "        self.data=data\n",
    "        self.prev=None\n",
    "        self.next=None\n",
    "class dll:\n",
    "    def __init__(self):\n",
    "        self.head=None\n",
    "    def insert_beg(self,data):\n",
    "        n=node(data)\n",
    "        temp=self.head\n",
    "        temp.prev=n\n",
    "        n.next=temp\n",
    "        self.head=n\n",
    "    def display(self):\n",
    "        if self.head is None:\n",
    "            print(\"Empty\")\n",
    "        else:\n",
    "            temp=self.head\n",
    "            while temp:\n",
    "                print(temp.data,\"-->\",end=\" \")\n",
    "                temp=temp.next\n",
    "l=dll()\n",
    "n1=node(10)\n",
    "l.head=n1\n",
    "n2=node(20)\n",
    "n2.prev=n1\n",
    "n1.next=n2\n",
    "n3=node(30)\n",
    "n3.prev=n2\n",
    "n2.next=n3\n",
    "l.insert_beg(5)\n",
    "l.display()\n"
   ]
  },
  {
   "cell_type": "code",
   "execution_count": null,
   "id": "b60d08fc",
   "metadata": {},
   "outputs": [],
   "source": [
    "Double linked list insertion at ending"
   ]
  },
  {
   "cell_type": "code",
   "execution_count": 9,
   "id": "ed229d7a",
   "metadata": {},
   "outputs": [
    {
     "name": "stdout",
     "output_type": "stream",
     "text": [
      "10 --> 20 --> 30 --> 77 --> "
     ]
    }
   ],
   "source": [
    "class node:\n",
    "    def __init__(self,data):\n",
    "        self.data=data\n",
    "        self.prev=None\n",
    "        self.next=None\n",
    "class dll:\n",
    "    def __init__(self):\n",
    "        self.head=None\n",
    "    def insert_end(self,data):\n",
    "        n=node(data)\n",
    "        temp=self.head\n",
    "        while temp.next is not None:\n",
    "            temp=temp.next\n",
    "        temp.next=n\n",
    "        n.prev=temp\n",
    "    def display(self):\n",
    "        if self.head is None:\n",
    "            print(\"Empty\")\n",
    "        else:\n",
    "            temp=self.head\n",
    "            while temp:\n",
    "                print(temp.data,\"-->\",end=\" \")\n",
    "                temp=temp.next\n",
    "l=dll()\n",
    "n1=node(10)\n",
    "l.head=n1\n",
    "n2=node(20)\n",
    "n2.prev=n1\n",
    "n1.next=n2\n",
    "n3=node(30)\n",
    "n3.prev=n2\n",
    "n2.next=n3\n",
    "l.insert_end(77)\n",
    "l.display()"
   ]
  },
  {
   "cell_type": "code",
   "execution_count": null,
   "id": "f3a14588",
   "metadata": {},
   "outputs": [],
   "source": [
    "Double linked list insertion at particular position"
   ]
  },
  {
   "cell_type": "code",
   "execution_count": 10,
   "id": "2169dc55",
   "metadata": {},
   "outputs": [
    {
     "name": "stdout",
     "output_type": "stream",
     "text": [
      "10 --> 77 --> 20 --> 30 --> "
     ]
    }
   ],
   "source": [
    "class node:\n",
    "    def __init__(self,data):\n",
    "        self.data=data\n",
    "        self.prev=None\n",
    "        self.next=None\n",
    "class dll:\n",
    "    def __init__(self):\n",
    "        self.head=None\n",
    "    def insert_pos(self,pos,data):\n",
    "        n=node(data)\n",
    "        temp=self.head\n",
    "        for i in range(1,pos-1):\n",
    "            temp=temp.next\n",
    "        n.prev=temp\n",
    "        n.next=temp.next\n",
    "        temp.next.prev=n\n",
    "        temp.next=n\n",
    "    def display(self):\n",
    "        if self.head is None:\n",
    "            print(\"Empty\")\n",
    "        else:\n",
    "            temp=self.head\n",
    "            while temp:\n",
    "                print(temp.data,\"-->\",end=\" \")\n",
    "                temp=temp.next\n",
    "l=dll()\n",
    "n1=node(10)\n",
    "l.head=n1\n",
    "n2=node(20)\n",
    "n2.prev=n1\n",
    "n1.next=n2\n",
    "n3=node(30)\n",
    "n3.prev=n2\n",
    "n2.next=n3\n",
    "l.insert_pos(2,77)\n",
    "l.display()"
   ]
  },
  {
   "cell_type": "code",
   "execution_count": null,
   "id": "84493b81",
   "metadata": {},
   "outputs": [],
   "source": []
  }
 ],
 "metadata": {
  "kernelspec": {
   "display_name": "Python 3 (ipykernel)",
   "language": "python",
   "name": "python3"
  },
  "language_info": {
   "codemirror_mode": {
    "name": "ipython",
    "version": 3
   },
   "file_extension": ".py",
   "mimetype": "text/x-python",
   "name": "python",
   "nbconvert_exporter": "python",
   "pygments_lexer": "ipython3",
   "version": "3.11.0"
  }
 },
 "nbformat": 4,
 "nbformat_minor": 5
}
