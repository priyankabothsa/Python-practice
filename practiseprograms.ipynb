{
 "cells": [
  {
   "cell_type": "code",
   "execution_count": null,
   "id": "da88941c",
   "metadata": {},
   "outputs": [],
   "source": [
    "python practice programs"
   ]
  },
  {
   "cell_type": "code",
   "execution_count": 1,
   "id": "5787b8b6",
   "metadata": {},
   "outputs": [
    {
     "name": "stdout",
     "output_type": "stream",
     "text": [
      "[5, 1, 2, 3, 4]\n"
     ]
    },
    {
     "data": {
      "text/plain": [
       "[5, 1, 2, 3, 4]"
      ]
     },
     "execution_count": 1,
     "metadata": {},
     "output_type": "execute_result"
    }
   ],
   "source": [
    "#cyclic rotation of an array by clockwise\n",
    "def rotate(a,n):\n",
    "    for i in range(n):\n",
    "        if i==len(a)-1:\n",
    "            a.insert(0,a[i])\n",
    "            a.pop(i+1)\n",
    "            print(a)\n",
    "    return a\n",
    "a=[1,2,3,4,5]\n",
    "n=len(a)\n",
    "rotate(a,n)"
   ]
  },
  {
   "cell_type": "code",
   "execution_count": null,
   "id": "34c1dd07",
   "metadata": {},
   "outputs": [],
   "source": [
    "The chocolate distribution problem is an array minimisation problem that requires us to\n",
    "distribute 'n' packets of chocolates among 'm' children such that each one gets a single packet, \n",
    "and the difference between a packet containing maximum chocolates and a packet containing minimum \n",
    "chocolates is minimum."
   ]
  },
  {
   "cell_type": "code",
   "execution_count": 3,
   "id": "de8627b9",
   "metadata": {},
   "outputs": [
    {
     "name": "stdout",
     "output_type": "stream",
     "text": [
      "12\n"
     ]
    }
   ],
   "source": [
    "#minimum chocolate \n",
    "def minchocolates(a,N):\n",
    "    b=[1 for i in range(N)]\n",
    "    for i in range(1,N):\n",
    "        if(a[i]>a[i-1]):\n",
    "            b[i]=b[i-1]+1\n",
    "        else:\n",
    "            b[i]=1\n",
    "    for i in range(N-2,-1,-1):\n",
    "        if(a[i]>a[i+1]):\n",
    "            b[i]=max(b[i+1]+1,b[i])\n",
    "        else:\n",
    "            b[i]=max(b[i],1)\n",
    "    sum=0\n",
    "    for i in range(N):\n",
    "        sum+=b[i]\n",
    "    print(sum)\n",
    "a=[23,14,15,14,56,29,14]\n",
    "N=len(a)\n",
    "minchocolates(a,N)"
   ]
  },
  {
   "cell_type": "code",
   "execution_count": null,
   "id": "8f3838ca",
   "metadata": {},
   "outputs": [],
   "source": [
    "to find min and max elements in an array without using built in functions"
   ]
  },
  {
   "cell_type": "code",
   "execution_count": 4,
   "id": "cce66e8f",
   "metadata": {},
   "outputs": [
    {
     "name": "stdout",
     "output_type": "stream",
     "text": [
      "enter k value=4\n",
      "enter elements=1\n",
      "enter elements=2\n",
      "enter elements=3\n",
      "enter elements=4\n",
      "Minimum element 1\n",
      "Maximum element 4\n"
     ]
    }
   ],
   "source": [
    "def getminmax(arr):\n",
    "    n=len(arr)\n",
    "    if(n%2==0):\n",
    "        mx=max(arr[0],arr[1])\n",
    "        mn=min(arr[0],arr[1])\n",
    "        i=2\n",
    "    else:\n",
    "        mx=mn=arr[0]\n",
    "        i=1\n",
    "    while(i<n-1):\n",
    "        if(arr[i]<arr[i+1]):\n",
    "            mx=max(mx,arr[i+1])\n",
    "            mn=min(mn,arr[i])\n",
    "        else:\n",
    "            mx=max(mx,arr[i])\n",
    "            mn=min(mn,arr[i+1])\n",
    "\n",
    "        i+=2\n",
    "    return (mx,mn)\n",
    "k=int(input(\"enter k value=\"))\n",
    "n=[int(input(\"enter elements=\")) for i in range(k)]\n",
    "mx,mn=getminmax(n)\n",
    "print(\"Minimum element\",mn)\n",
    "print(\"Maximum element\",mx)"
   ]
  },
  {
   "cell_type": "code",
   "execution_count": null,
   "id": "5264889d",
   "metadata": {},
   "outputs": [],
   "source": [
    "to arrange all negative numbers"
   ]
  },
  {
   "cell_type": "code",
   "execution_count": 10,
   "id": "355c47ab",
   "metadata": {},
   "outputs": [
    {
     "name": "stdout",
     "output_type": "stream",
     "text": [
      "[-1, -3, -4, -5, -3, 2, 6, 7, 5, 8]\n"
     ]
    }
   ],
   "source": [
    "def rearrange(arr,n):\n",
    "    j=0\n",
    "    for i in range(0,n):\n",
    "        if(arr[i]<0):\n",
    "            temp=arr[i]\n",
    "            arr[i]=arr[j]\n",
    "            arr[j]=temp\n",
    "            j=j+1\n",
    "    print(arr)\n",
    "arr=[-1,2,-3,-4,-5,-3,6,7,5,8]\n",
    "n=len(arr)\n",
    "rearrange(arr,n)\n"
   ]
  },
  {
   "cell_type": "code",
   "execution_count": null,
   "id": "0dc8249a",
   "metadata": {},
   "outputs": [],
   "source": [
    "to check previous sum"
   ]
  },
  {
   "cell_type": "code",
   "execution_count": 11,
   "id": "952b463d",
   "metadata": {},
   "outputs": [
    {
     "name": "stdout",
     "output_type": "stream",
     "text": [
      "enter your range:4\n",
      "current num: 1 previous num: 0 sum: 1\n",
      "current num: 2 previous num: 1 sum: 3\n",
      "current num: 3 previous num: 2 sum: 5\n"
     ]
    }
   ],
   "source": [
    "previous_num=0\n",
    "r=int(input(\"enter your range:\"))\n",
    "for i in range(1,r):\n",
    "    x=previous_num+i\n",
    "    print(\"current num:\",i,\"previous num:\",previous_num,\"sum:\",x)\n",
    "    previous_num=i"
   ]
  },
  {
   "cell_type": "code",
   "execution_count": null,
   "id": "f38af261",
   "metadata": {},
   "outputs": [],
   "source": [
    "to check given number is prime or not"
   ]
  },
  {
   "cell_type": "code",
   "execution_count": 13,
   "id": "26742b0e",
   "metadata": {},
   "outputs": [
    {
     "name": "stdout",
     "output_type": "stream",
     "text": [
      "enter your number:100\n",
      "Not Prime\n"
     ]
    }
   ],
   "source": [
    "n=int(input(\"enter your number:\"))\n",
    "for i in range(2,n):\n",
    "    if n%i==0:\n",
    "        print(\"Not Prime\")\n",
    "        break\n",
    "else:\n",
    "    print(\"prime\")"
   ]
  },
  {
   "cell_type": "code",
   "execution_count": null,
   "id": "61153a04",
   "metadata": {},
   "outputs": [],
   "source": [
    "to reverse the list"
   ]
  },
  {
   "cell_type": "code",
   "execution_count": 16,
   "id": "9b83adf1",
   "metadata": {},
   "outputs": [
    {
     "name": "stdout",
     "output_type": "stream",
     "text": [
      "enter your list:4\n",
      "enter element=2\n",
      "enter element=3\n",
      "enter element=4\n",
      "enter element=5\n",
      "[2, 3, 4, 5]\n",
      "[5, 4, 3, 2]\n"
     ]
    }
   ],
   "source": [
    "def reverse(list):\n",
    "    print(list)\n",
    "    new_list=list[::-1]\n",
    "    return new_list\n",
    "a=int(input(\"enter your list:\"))\n",
    "l=[]\n",
    "for i in range(a):\n",
    "    val=int(input(\"enter element=\"))\n",
    "    l.append(val)\n",
    "print(reverse(l))"
   ]
  },
  {
   "cell_type": "code",
   "execution_count": null,
   "id": "c62d72c3",
   "metadata": {},
   "outputs": [],
   "source": [
    "to rotate array"
   ]
  },
  {
   "cell_type": "code",
   "execution_count": 17,
   "id": "281bf708",
   "metadata": {},
   "outputs": [
    {
     "name": "stdout",
     "output_type": "stream",
     "text": [
      "2 3 4 5 6 7 1 "
     ]
    }
   ],
   "source": [
    "def rotate(L,d,n):\n",
    "    k=L.index(d)\n",
    "    new_lis=[]\n",
    "    new_lis=L[k+1:]+L[0:k+1]\n",
    "    return new_lis\n",
    "arr=[1,2,3,4,5,6,7]\n",
    "d=1\n",
    "N=len(arr)\n",
    "arr=rotate(arr,d,N)\n",
    "for i in arr:\n",
    "    print(i,end=\" \")"
   ]
  },
  {
   "cell_type": "code",
   "execution_count": null,
   "id": "36bcfe27",
   "metadata": {},
   "outputs": [],
   "source": [
    "to find frequency of characters"
   ]
  },
  {
   "cell_type": "code",
   "execution_count": 21,
   "id": "08398e30",
   "metadata": {},
   "outputs": [
    {
     "name": "stdout",
     "output_type": "stream",
     "text": [
      "enter your string:prianka\n",
      "p1 r1 i1 a2 n1 k1 "
     ]
    }
   ],
   "source": [
    "def print_c(str):\n",
    "    d={}\n",
    "    for i in str:\n",
    "        if i in d:\n",
    "            d[i]+=1\n",
    "        else:\n",
    "            d[i]=1\n",
    "    for i in str:\n",
    "        if(d[i]!=0):\n",
    "            print(\"{}{}\".format(i,d[i]),end=\" \")\n",
    "            d[i]=0\n",
    "str=input(\"enter your string:\")\n",
    "print_c(str)"
   ]
  },
  {
   "cell_type": "code",
   "execution_count": null,
   "id": "df0cf7f2",
   "metadata": {},
   "outputs": [],
   "source": [
    "to check whether the number is armstrong or not"
   ]
  },
  {
   "cell_type": "code",
   "execution_count": 22,
   "id": "8e4c0083",
   "metadata": {},
   "outputs": [
    {
     "name": "stdout",
     "output_type": "stream",
     "text": [
      "enter number:153\n",
      "armstrong\n"
     ]
    }
   ],
   "source": [
    "n=int(input(\"enter number:\"))\n",
    "temp=n\n",
    "sum=0\n",
    "while(n>0):\n",
    "    rem=n%10\n",
    "    sum=(sum)+(rem*rem*rem)\n",
    "    n=n//10\n",
    "if temp==sum:\n",
    "    print(\"armstrong\")\n",
    "else:\n",
    "    print(\"not armstrong\")"
   ]
  },
  {
   "cell_type": "code",
   "execution_count": null,
   "id": "b5b66118",
   "metadata": {},
   "outputs": [],
   "source": [
    "bubble sort"
   ]
  },
  {
   "cell_type": "code",
   "execution_count": 23,
   "id": "658dcbde",
   "metadata": {},
   "outputs": [
    {
     "name": "stdout",
     "output_type": "stream",
     "text": [
      "sorted array is:\n",
      "1\n",
      "2\n",
      "10\n",
      "23\n"
     ]
    }
   ],
   "source": [
    "def bubblesort(arr):\n",
    "    n=len(arr)\n",
    "    for i in range(n):\n",
    "        for j in range(0,n-i-1):\n",
    "            if arr[j]>arr[j+1]:\n",
    "                arr[j],arr[j+1]=arr[j+1],arr[j]\n",
    "arr=[2,1,10,23]\n",
    "bubblesort(arr)\n",
    "print(\"sorted array is:\")\n",
    "for i in range(len(arr)):\n",
    "    print(arr[i])"
   ]
  },
  {
   "cell_type": "code",
   "execution_count": null,
   "id": "6765c5ff",
   "metadata": {},
   "outputs": [],
   "source": [
    "intersection and union of given numbers"
   ]
  },
  {
   "cell_type": "code",
   "execution_count": 24,
   "id": "dbf41dcf",
   "metadata": {},
   "outputs": [
    {
     "name": "stdout",
     "output_type": "stream",
     "text": [
      "5\n"
     ]
    }
   ],
   "source": [
    "def dounion(a,n):\n",
    "    b={}\n",
    "    d={}\n",
    "    for i in range(len(a)):\n",
    "        if a[i] in d.keys():\n",
    "            d[a[i]]=d[a[i]]+1\n",
    "        else:\n",
    "            d[a[i]]=1\n",
    "    return len(d)\n",
    "a=[23,34,34,23,45,4,5]\n",
    "n=len(a)\n",
    "print(dounion(a,n))"
   ]
  },
  {
   "cell_type": "code",
   "execution_count": null,
   "id": "0178771d",
   "metadata": {},
   "outputs": [],
   "source": [
    "to find kth smallest element"
   ]
  },
  {
   "cell_type": "code",
   "execution_count": 25,
   "id": "28b3869f",
   "metadata": {},
   "outputs": [
    {
     "name": "stdout",
     "output_type": "stream",
     "text": [
      "0\n"
     ]
    }
   ],
   "source": [
    "def kth_smallest(arr,k):\n",
    "    arr.sort()\n",
    "    if(arr[k-1]!=min(arr)):\n",
    "        return arr[k-1]\n",
    "    k=0\n",
    "    while a[k] == min(arr):\n",
    "        k+=1\n",
    "        return arr[k]\n",
    "a = [2,6,0,3,4,5,0,1,1,1]\n",
    "print(kth_smallest(a,2))"
   ]
  },
  {
   "cell_type": "code",
   "execution_count": null,
   "id": "0b379a7f",
   "metadata": {},
   "outputs": [],
   "source": [
    "linear search"
   ]
  },
  {
   "cell_type": "code",
   "execution_count": 27,
   "id": "5cafb9f0",
   "metadata": {},
   "outputs": [
    {
     "name": "stdout",
     "output_type": "stream",
     "text": [
      "enter your list:4\n",
      "enter element=1\n",
      "enter element=2\n",
      "enter element=3\n",
      "enter element=4\n",
      "enter a number to search:4\n",
      "the element 4 is found at [1, 2, 3, 4] index of the array\n"
     ]
    }
   ],
   "source": [
    "def linear_search(arr,k,s):\n",
    "    if(s==0):\n",
    "        return -1\n",
    "    elif(arr[s-1]==k):\n",
    "        return s-1\n",
    "    else:\n",
    "        return linear_search(arr,k,s-1)\n",
    "a=int(input(\"enter your list:\"))\n",
    "l=[]\n",
    "for i in range(a):\n",
    "    val=int(input(\"enter element=\"))\n",
    "    l.append(val)\n",
    "n=int(input(\"enter a number to search:\"))\n",
    "s=len(l)\n",
    "an=linear_search(l,n,s)\n",
    "if an!=-1:\n",
    "    print(\"the element\",n,\"is found at\",l,\"index of the array\")\n",
    "else:\n",
    "    print(\"the element\",n,\"is not found\")"
   ]
  },
  {
   "cell_type": "code",
   "execution_count": null,
   "id": "ca95acb6",
   "metadata": {},
   "outputs": [],
   "source": []
  }
 ],
 "metadata": {
  "kernelspec": {
   "display_name": "Python 3 (ipykernel)",
   "language": "python",
   "name": "python3"
  },
  "language_info": {
   "codemirror_mode": {
    "name": "ipython",
    "version": 3
   },
   "file_extension": ".py",
   "mimetype": "text/x-python",
   "name": "python",
   "nbconvert_exporter": "python",
   "pygments_lexer": "ipython3",
   "version": "3.11.0"
  }
 },
 "nbformat": 4,
 "nbformat_minor": 5
}
