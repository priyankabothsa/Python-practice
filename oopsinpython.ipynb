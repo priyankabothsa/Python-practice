{
 "cells": [
  {
   "cell_type": "code",
   "execution_count": 3,
   "id": "2968ae39",
   "metadata": {},
   "outputs": [
    {
     "data": {
      "text/plain": [
       "'OOPS CONCEPTS\\nCLASS\\nOBJECT\\nINHERITANCE\\n1.Single\\n2.Multilevel\\n3.Hierarchical\\n4.Multiple\\nPOLYMORPHISM\\n1.Compile time\\n2.Run time\\nABSTRACTION\\nENCAPSULATION AND DATA HIDING'"
      ]
     },
     "execution_count": 3,
     "metadata": {},
     "output_type": "execute_result"
    }
   ],
   "source": [
    "\"\"\"OOPS CONCEPTS\n",
    "CLASS\n",
    "OBJECT\n",
    "INHERITANCE\n",
    "1.Single\n",
    "2.Multilevel\n",
    "3.Hierarchical\n",
    "4.Multiple\n",
    "POLYMORPHISM\n",
    "1.Compile time\n",
    "2.Run time\n",
    "ABSTRACTION\n",
    "ENCAPSULATION AND DATA HIDING\"\"\""
   ]
  },
  {
   "cell_type": "code",
   "execution_count": null,
   "id": "877674e2",
   "metadata": {},
   "outputs": [],
   "source": [
    "CLASS: class is logical entity,blueprint of the program.\n",
    "    it has name,attributes,functions/methods.\n",
    "    Attributes have properties."
   ]
  },
  {
   "cell_type": "code",
   "execution_count": 6,
   "id": "47e6f774",
   "metadata": {
    "scrolled": true
   },
   "outputs": [
    {
     "name": "stdout",
     "output_type": "stream",
     "text": [
      "white 5.5\n",
      "she can run\n",
      "she can walk\n"
     ]
    }
   ],
   "source": [
    "#program for class\n",
    "class Priyanka:\n",
    "    color=\"white\"\n",
    "    height=5.5\n",
    "    def run(self):\n",
    "        print(\"she can run\")\n",
    "    def walk(self):\n",
    "        print(\"she can walk\")\n",
    "obj=Priyanka()\n",
    "print(obj.color,obj.height)\n",
    "obj.run()\n",
    "obj.walk()"
   ]
  },
  {
   "cell_type": "code",
   "execution_count": 10,
   "id": "51a8b19c",
   "metadata": {},
   "outputs": [
    {
     "name": "stdout",
     "output_type": "stream",
     "text": [
      "white 5.5\n",
      "black 5.6\n",
      "priya  she can run\n",
      "priyanka  she can run\n"
     ]
    }
   ],
   "source": [
    "#using init constructor\n",
    "#we use constrctor to initialize objects\n",
    "class Priyanka:  #class\n",
    "    def __init__(self,c,h):\n",
    "        self.color=c\n",
    "        self.height=h\n",
    "    def run(self,n):\n",
    "        print(n+\" \",\"she can run\")\n",
    "    def walk(self):\n",
    "        print(\"she can walk\")\n",
    "obj=Priyanka(\"white\",5.5)     #object\n",
    "obj1=Priyanka(\"black\",5.6)\n",
    "print(obj.color,obj.height)\n",
    "print(obj1.color,obj1.height)\n",
    "obj.run(\"priya\")\n",
    "obj1.run(\"priyanka\")"
   ]
  },
  {
   "cell_type": "code",
   "execution_count": 11,
   "id": "8528d416",
   "metadata": {},
   "outputs": [
    {
     "data": {
      "text/plain": [
       "'\\nin simple terms it is parent child relationship\\nparent is nothing but Base class\\nchild is nothing but Derived class\\nDEFINITION\\nacquiring properties of parent class\\n'"
      ]
     },
     "execution_count": 11,
     "metadata": {},
     "output_type": "execute_result"
    }
   ],
   "source": [
    "#Inheritance\n",
    "\"\"\"\n",
    "in simple terms it is parent child relationship\n",
    "parent is nothing but Base class\n",
    "child is nothing but Derived class\n",
    "DEFINITION\n",
    "acquiring properties of parent class\n",
    "\"\"\""
   ]
  },
  {
   "cell_type": "code",
   "execution_count": 17,
   "id": "93e9c38e",
   "metadata": {},
   "outputs": [
    {
     "name": "stdout",
     "output_type": "stream",
     "text": [
      "20 200\n",
      "DERIVED CLASS\n",
      "10 100\n",
      "BASE CLASS\n"
     ]
    }
   ],
   "source": [
    "#program for Inheritance or single inheritance\n",
    "#single inheritance have one base and derived class\n",
    "class BaseClass:   #parent class\n",
    "    a=10\n",
    "    b=100\n",
    "    def display(self):\n",
    "        print(\"BASE CLASS\")\n",
    "class DerivedClass(BaseClass):    #childclass\n",
    "    c=20\n",
    "    d=200\n",
    "    def show(self):\n",
    "        print(\"DERIVED CLASS\")\n",
    "dobj=DerivedClass()\n",
    "print(dobj.c,dobj.d)\n",
    "dobj.show()\n",
    "print(dobj.a,dobj.b)\n",
    "dobj.display()"
   ]
  },
  {
   "cell_type": "code",
   "execution_count": null,
   "id": "18275402",
   "metadata": {},
   "outputs": [],
   "source": [
    "#multilevel\n",
    "#baseclass\n",
    "#   |\n",
    "#derived class(base class for below derived class)\n",
    "#    |\n",
    "#derived class(base class for below derived class)\n",
    "#    |\n",
    "#derived class"
   ]
  },
  {
   "cell_type": "code",
   "execution_count": 25,
   "id": "7bb23494",
   "metadata": {},
   "outputs": [
    {
     "name": "stdout",
     "output_type": "stream",
     "text": [
      "GRAND PARENT METHOD\n"
     ]
    }
   ],
   "source": [
    "#program for multilevel inheritance\n",
    "class Grandparent:\n",
    "    def gpdisplay(self):\n",
    "        print(\"GRAND PARENT METHOD\")\n",
    "class Parent(Grandparent):\n",
    "    def pdisplay(self):\n",
    "        print(\"PARENT METHOD\")\n",
    "class child(Parent):\n",
    "    def cdisplay(self):\n",
    "        print(\"CHILD DISPLAY\")\n",
    "\"\"\"c=child()\n",
    "c.cdisplay()\n",
    "c.pdisplay()\n",
    "c.gpdisplay()\"\"\"\n",
    "\n",
    "\"\"\"p=Parent()\n",
    "p.pdisplay()\n",
    "p.gpdisplay()\"\"\"\n",
    "\n",
    "gp=Grandparent()\n",
    "gp.gpdisplay()"
   ]
  },
  {
   "cell_type": "code",
   "execution_count": null,
   "id": "061ed5e6",
   "metadata": {},
   "outputs": [],
   "source": [
    "\"\"\"HIERARCHICAL INHERITANCE\n",
    "                |\n",
    "            BASE CLASS\n",
    "                |\n",
    "DERIVED CLASS1     DERIVED CLASS2\n",
    " derived class1 will acceess its elements and base class but not derived class2\n",
    "derived class2 will acceess its elements and base class but not derived class1\n",
    "parent will not access both derived classes\n",
    "\"\"\""
   ]
  },
  {
   "cell_type": "code",
   "execution_count": 29,
   "id": "05042852",
   "metadata": {},
   "outputs": [
    {
     "name": "stdout",
     "output_type": "stream",
     "text": [
      "son class\n",
      "parent class\n",
      "parent class\n",
      "daughter class\n"
     ]
    },
    {
     "ename": "AttributeError",
     "evalue": "'parent' object has no attribute 'ddisplay'",
     "output_type": "error",
     "traceback": [
      "\u001b[1;31m---------------------------------------------------------------------------\u001b[0m",
      "\u001b[1;31mAttributeError\u001b[0m                            Traceback (most recent call last)",
      "Cell \u001b[1;32mIn[29], line 18\u001b[0m\n\u001b[0;32m     16\u001b[0m d\u001b[38;5;241m.\u001b[39mddisplay()\n\u001b[0;32m     17\u001b[0m p\u001b[38;5;241m=\u001b[39mparent()\n\u001b[1;32m---> 18\u001b[0m \u001b[43mp\u001b[49m\u001b[38;5;241;43m.\u001b[39;49m\u001b[43mddisplay\u001b[49m()\n\u001b[0;32m     19\u001b[0m p\u001b[38;5;241m.\u001b[39msdisplay()\n",
      "\u001b[1;31mAttributeError\u001b[0m: 'parent' object has no attribute 'ddisplay'"
     ]
    }
   ],
   "source": [
    "#program for hierarchical inheritance\n",
    "class parent:\n",
    "    def pdisplay(self):\n",
    "        print(\"parent class\")\n",
    "class son(parent):\n",
    "    def sdisplay(self):\n",
    "        print(\"son class\")\n",
    "class daughter(parent):\n",
    "    def ddisplay(self):\n",
    "        print(\"daughter class\")\n",
    "s=son()\n",
    "s.sdisplay()\n",
    "s.pdisplay()\n",
    "d=daughter()\n",
    "d.pdisplay()\n",
    "d.ddisplay()\n",
    "p=parent()\n",
    "p.ddisplay()\n",
    "p.sdisplay()"
   ]
  },
  {
   "cell_type": "code",
   "execution_count": null,
   "id": "e4eb36db",
   "metadata": {},
   "outputs": [],
   "source": [
    "\"\"\"\n",
    "MULITPLE INHERITANCE\n",
    "\n",
    "BASE CLASS1     BASE CLASS2\n",
    "       |          | \n",
    "         DERIVED CLASS\n",
    " here 2 base classes are independent classes they can't access derived class objects\n",
    "\n",
    "\"\"\""
   ]
  },
  {
   "cell_type": "code",
   "execution_count": 32,
   "id": "346d8c3a",
   "metadata": {},
   "outputs": [
    {
     "name": "stdout",
     "output_type": "stream",
     "text": [
      "CHILD CLASS\n",
      "MOTHER CLASS\n",
      "FATHER CLASS\n"
     ]
    },
    {
     "ename": "AttributeError",
     "evalue": "'mother' object has no attribute 'fdisplay'",
     "output_type": "error",
     "traceback": [
      "\u001b[1;31m---------------------------------------------------------------------------\u001b[0m",
      "\u001b[1;31mAttributeError\u001b[0m                            Traceback (most recent call last)",
      "Cell \u001b[1;32mIn[32], line 15\u001b[0m\n\u001b[0;32m     13\u001b[0m c\u001b[38;5;241m.\u001b[39mfdisplay()\n\u001b[0;32m     14\u001b[0m m\u001b[38;5;241m=\u001b[39mmother()\n\u001b[1;32m---> 15\u001b[0m \u001b[43mm\u001b[49m\u001b[38;5;241;43m.\u001b[39;49m\u001b[43mfdisplay\u001b[49m()\n\u001b[0;32m     16\u001b[0m m\u001b[38;5;241m.\u001b[39mcdisplay()\n\u001b[0;32m     17\u001b[0m m\u001b[38;5;241m.\u001b[39mmdisplay()\n",
      "\u001b[1;31mAttributeError\u001b[0m: 'mother' object has no attribute 'fdisplay'"
     ]
    }
   ],
   "source": [
    "class father:\n",
    "    def fdisplay(self):\n",
    "        print(\"FATHER CLASS\")\n",
    "class mother:\n",
    "    def mdisplay(self):\n",
    "        print(\"MOTHER CLASS\")\n",
    "class child(father,mother):\n",
    "    def cdisplay(self):\n",
    "        print(\"CHILD CLASS\")\n",
    "c=child()\n",
    "c.cdisplay()\n",
    "c.mdisplay()\n",
    "c.fdisplay()\n",
    "m=mother()\n",
    "m.fdisplay()\n",
    "m.cdisplay()\n",
    "m.mdisplay()\n",
    "f=father()\n",
    "f.fdisplay()\n",
    "f.cdisplay()\n",
    "f.mdisplay()"
   ]
  },
  {
   "cell_type": "code",
   "execution_count": null,
   "id": "4aceee66",
   "metadata": {},
   "outputs": [],
   "source": [
    "\"\"\"\n",
    "POLYMORPHISM\n",
    "implementing same thing in different ways\n",
    "1)COMPILE TIME POLYMORPHISM is achieved by METHOD OVERLOADING\n",
    "2)RUN TIME POLYMORPHISM is achieved by METHOD OVERRIDING\n",
    " in run time polymorphism if both parent and child calss having same method and parameters then parent method will be over ridden\n",
    "\n",
    "\n",
    "python won't support method overloading it can be supported by using default parameters\n",
    "\n",
    "\n",
    "\"\"\""
   ]
  },
  {
   "cell_type": "code",
   "execution_count": 6,
   "id": "747932a0",
   "metadata": {},
   "outputs": [
    {
     "name": "stdout",
     "output_type": "stream",
     "text": [
      "202\n",
      "400\n",
      "600\n"
     ]
    }
   ],
   "source": [
    "#program for polymorphism compile time polymorphism\n",
    "class Demo:\n",
    "    def add(self,a,b=2,c=100):  #method overloading\n",
    "        print(a+b+c)         \n",
    "obj=Demo()\n",
    "obj.add(100)\n",
    "obj.add(100,200)\n",
    "obj.add(100,200,300)"
   ]
  },
  {
   "cell_type": "code",
   "execution_count": 11,
   "id": "772a43c7",
   "metadata": {},
   "outputs": [
    {
     "name": "stdout",
     "output_type": "stream",
     "text": [
      "BIKE\n"
     ]
    }
   ],
   "source": [
    "#program for runtime polymorphism\n",
    "class parent:\n",
    "    def transport(self):   #method overriding\n",
    "        print(\"CYCLE\")\n",
    "class child(parent):\n",
    "    def transport(self):\n",
    "        print(\"BIKE\")\n",
    "c=child()\n",
    "c.transport()"
   ]
  },
  {
   "cell_type": "code",
   "execution_count": null,
   "id": "01a43ec7",
   "metadata": {},
   "outputs": [],
   "source": [
    "\"\"\"\n",
    "ABSTRACTION\n",
    "hiding the implementation and give visibility to essential part\n",
    "if we want to run abstract in python then we have to import abc module abc means abstract base class\n",
    "if any class is having atleast one abstract method the it is abstarct class\n",
    "ABSTRACT METHOD: only function call with empty definition we will use decorator @abstract method\n",
    "we will unable to create object for this abstraction\n",
    "we have to create objects for concrete class only. we have to override all methods in concrete class\n",
    "\"\"\""
   ]
  },
  {
   "cell_type": "code",
   "execution_count": 5,
   "id": "9cf97f86",
   "metadata": {},
   "outputs": [
    {
     "name": "stdout",
     "output_type": "stream",
     "text": [
      "Housing Interest 0.5%\n",
      "Vehicle Interest 8.1%\n",
      "Housing Interest 0.9%\n",
      "Vehicle Interest 5.1%\n"
     ]
    }
   ],
   "source": [
    "from abc import ABC,abstractmethod\n",
    "class abstractDemo(ABC):\n",
    "    @abstractmethod\n",
    "    def HousingInterest(self):  #abstract Method\n",
    "        None\n",
    "    @abstractmethod\n",
    "    def VehicleInterest(self):\n",
    "        None\n",
    "class SBI(abstractDemo):          #concrete class\n",
    "    def HousingInterest(self):\n",
    "        print(\"Housing Interest 0.5%\")\n",
    "    def VehicleInterest(self):\n",
    "        print(\"Vehicle Interest 8.1%\")\n",
    "class ICICI(abstractDemo):          #concrete class\n",
    "    def HousingInterest(self):\n",
    "        print(\"Housing Interest 0.9%\")\n",
    "    def VehicleInterest(self):\n",
    "        print(\"Vehicle Interest 5.1%\")\n",
    "sbiobj=SBI()\n",
    "sbiobj.HousingInterest()\n",
    "sbiobj.VehicleInterest()\n",
    "\n",
    "iciciobj=ICICI()\n",
    "iciciobj.HousingInterest()\n",
    "iciciobj.VehicleInterest()"
   ]
  },
  {
   "cell_type": "code",
   "execution_count": null,
   "id": "0b7731a1",
   "metadata": {},
   "outputs": [],
   "source": [
    "\"\"\" ENCAPSULATION\n",
    "wrapping of data and methods\n",
    "\n",
    "DATA HIDING -security---->Access specifiers-->public,private\n",
    "\n",
    "\n",
    "\"\"\""
   ]
  },
  {
   "cell_type": "code",
   "execution_count": 10,
   "id": "a5d5206d",
   "metadata": {},
   "outputs": [
    {
     "name": "stdout",
     "output_type": "stream",
     "text": [
      "100\n",
      "10\n",
      "Display method in demo class\n"
     ]
    }
   ],
   "source": [
    "class Demo:\n",
    "    __a=10\n",
    "    b=100\n",
    "    def display(self):\n",
    "        print(self.__a)\n",
    "        print(\"Display method in demo class\")\n",
    "    def show(self):\n",
    "        self.__display()\n",
    "obj=Demo()\n",
    "print(obj.b)\n",
    "obj.display()"
   ]
  },
  {
   "cell_type": "markdown",
   "id": "e4cad87e",
   "metadata": {},
   "source": []
  },
  {
   "cell_type": "code",
   "execution_count": null,
   "id": "ba3de835",
   "metadata": {},
   "outputs": [],
   "source": []
  },
  {
   "cell_type": "code",
   "execution_count": null,
   "id": "a08893eb",
   "metadata": {},
   "outputs": [],
   "source": []
  }
 ],
 "metadata": {
  "kernelspec": {
   "display_name": "Python 3 (ipykernel)",
   "language": "python",
   "name": "python3"
  },
  "language_info": {
   "codemirror_mode": {
    "name": "ipython",
    "version": 3
   },
   "file_extension": ".py",
   "mimetype": "text/x-python",
   "name": "python",
   "nbconvert_exporter": "python",
   "pygments_lexer": "ipython3",
   "version": "3.11.0"
  }
 },
 "nbformat": 4,
 "nbformat_minor": 5
}
